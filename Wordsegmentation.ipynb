{
  "nbformat": 4,
  "nbformat_minor": 0,
  "metadata": {
    "colab": {
      "provenance": []
    },
    "kernelspec": {
      "name": "python3",
      "display_name": "Python 3"
    },
    "language_info": {
      "name": "python"
    }
  },
  "cells": [
    {
      "cell_type": "code",
      "execution_count": null,
      "metadata": {
        "id": "BbZ5GkQ8GwmV"
      },
      "outputs": [],
      "source": [
        "import numpy as np\n",
        "import cv2\n",
        "from google.colab.patches import cv2_imshow\n",
        "import cv2\n",
        "from imutils import contours\n",
        "import glob\n",
        "import glob \n",
        "import os \n",
        "mnum=0\n",
        "i=0\n",
        "\n",
        "for img in range(0,1):\n",
        "\n",
        "     image= cv2.imread('/content/cropped_lines/img25.jpg')\n",
        "     mnum=mnum+1\n",
        "     original = image.copy()\n",
        "     gray = cv2.cvtColor(image , cv2.COLOR_BGR2GRAY)\n",
        "     blur = cv2.GaussianBlur(gray, (5,5) ,0)\n",
        "     thresh = cv2.adaptiveThreshold(blur,255,1,1,11,2)\n",
        "     \n",
        "     kernel = np.ones((3,3),np.uint8)\n",
        "     erosion = cv2.dilate(thresh,kernel,iterations = 1)\n",
        "     thresh =cv2.erode(erosion,kernel,iterations = 1)\n",
        "     cnts = cv2.findContours(thresh, cv2.RETR_EXTERNAL, cv2.CHAIN_APPROX_SIMPLE)\n",
        "     cnts = cnts[0] if len(cnts) == 2 else cnts[1]\n",
        "     (cnts, _) = contours.sort_contours(cnts, method=\"right-to-left\")\n",
        "     num = 0\n",
        "     array = np.zeros((1,100))\n",
        "\n",
        "     for c in cnts:\n",
        "          if cv2.contourArea(c)>100:\n",
        "              [x,y,w,h] = cv2.boundingRect(c)\n",
        "\n",
        "              if  h>30:\n",
        "                  cv2.rectangle(image,(x,y),(x+w,y+h),(0,0,255),2)\n",
        "                  roi = thresh[y:y+h,x:x+w]\n",
        "                  roi2 = original[y:y+h,x:x+w]\n",
        "                  i=i+1\n",
        "                  roismall = cv2.resize(roi,(10,10))\n",
        "                  x = roismall.reshape((1,100))\n",
        "\n",
        "     cv2_imshow(image)"
      ]
    }
  ]
}